{
 "cells": [
  {
   "cell_type": "code",
   "execution_count": 4,
   "metadata": {},
   "outputs": [],
   "source": [
    "import os\n",
    "import glob\n",
    "import json"
   ]
  },
  {
   "cell_type": "code",
   "execution_count": 5,
   "metadata": {},
   "outputs": [],
   "source": [
    "# it's 2013-2018"
   ]
  },
  {
   "cell_type": "code",
   "execution_count": 6,
   "metadata": {},
   "outputs": [
    {
     "data": {
      "text/plain": [
       "['guardian_data/2013/01/2013-01_003.json',\n",
       " 'guardian_data/2013/01/2013-01_001.json',\n",
       " 'guardian_data/2013/01/2013-01_004.json',\n",
       " 'guardian_data/2013/01/2013-01_002.json']"
      ]
     },
     "execution_count": 6,
     "metadata": {},
     "output_type": "execute_result"
    }
   ],
   "source": [
    "glob.glob('guardian_data/2013/01/*')"
   ]
  },
  {
   "cell_type": "code",
   "execution_count": 7,
   "metadata": {},
   "outputs": [],
   "source": [
    "infile = 'guardian_data/2013/01/2013-01_001.json'\n",
    "with open(infile) as f:\n",
    "    data = json.load(f)"
   ]
  },
  {
   "cell_type": "code",
   "execution_count": 62,
   "metadata": {},
   "outputs": [],
   "source": [
    "def pk(x,n):\n",
    "    try:\n",
    "        for k in x.keys():\n",
    "            print('\\t'*n, k)\n",
    "            pk(x[k], n+1)\n",
    "            \n",
    "    except AttributeError:\n",
    "        print('\\t'*n, type(x))"
   ]
  },
  {
   "cell_type": "code",
   "execution_count": 17,
   "metadata": {},
   "outputs": [
    {
     "name": "stdout",
     "output_type": "stream",
     "text": [
      " results\n",
      "<class 'list'>\n",
      " pages\n",
      "<class 'int'>\n",
      " userTier\n",
      "<class 'str'>\n",
      " currentPage\n",
      "<class 'int'>\n",
      " pageSize\n",
      "<class 'int'>\n",
      " orderBy\n",
      "<class 'str'>\n",
      " startIndex\n",
      "<class 'int'>\n",
      " total\n",
      "<class 'int'>\n",
      " status\n",
      "<class 'str'>\n"
     ]
    }
   ],
   "source": [
    "pk(data['response'], 0)"
   ]
  },
  {
   "cell_type": "code",
   "execution_count": 35,
   "metadata": {},
   "outputs": [
    {
     "data": {
      "text/plain": [
       "\"New Year's Eve : countdown to 2013  \""
      ]
     },
     "execution_count": 35,
     "metadata": {},
     "output_type": "execute_result"
    }
   ],
   "source": [
    "data['response']['results'][0]['webTitle']"
   ]
  },
  {
   "cell_type": "code",
   "execution_count": 45,
   "metadata": {},
   "outputs": [
    {
     "data": {
      "text/plain": [
       "'World news'"
      ]
     },
     "execution_count": 45,
     "metadata": {},
     "output_type": "execute_result"
    }
   ],
   "source": [
    "data['response']['results'][0]['sectionName']"
   ]
  },
  {
   "cell_type": "code",
   "execution_count": 37,
   "metadata": {},
   "outputs": [
    {
     "data": {
      "text/plain": [
       "'world'"
      ]
     },
     "execution_count": 37,
     "metadata": {},
     "output_type": "execute_result"
    }
   ],
   "source": [
    "data['response']['results'][0]['sectionId']"
   ]
  },
  {
   "cell_type": "code",
   "execution_count": 43,
   "metadata": {},
   "outputs": [
    {
     "data": {
      "text/plain": [
       "'<p>• Coverage of the passing of the year 2012 <br />• A not entirely serious look at the arrival of 2013<br />• Images from around the world as it rings in the new</p>'"
      ]
     },
     "execution_count": 43,
     "metadata": {},
     "output_type": "execute_result"
    }
   ],
   "source": [
    "data['response']['results'][0]['fields']['trailText']"
   ]
  },
  {
   "cell_type": "code",
   "execution_count": 46,
   "metadata": {},
   "outputs": [
    {
     "data": {
      "text/plain": [
       "'• Coverage of the passing of the year 2012 <br />• A not entirely serious look at the arrival of 2013<br />• Images from around the world as it rings in the new'"
      ]
     },
     "execution_count": 46,
     "metadata": {},
     "output_type": "execute_result"
    }
   ],
   "source": [
    "data['response']['results'][0]['fields']['standfirst']"
   ]
  },
  {
   "cell_type": "code",
   "execution_count": 50,
   "metadata": {},
   "outputs": [
    {
     "data": {
      "text/plain": [
       "\"New Year's Eve: countdown to 2013\""
      ]
     },
     "execution_count": 50,
     "metadata": {},
     "output_type": "execute_result"
    }
   ],
   "source": [
    "data['response']['results'][0]['fields']['headline']"
   ]
  },
  {
   "cell_type": "code",
   "execution_count": 51,
   "metadata": {},
   "outputs": [
    {
     "data": {
      "text/plain": [
       "'Notwithstanding the slightly eerie moment when a clip of Boris Johnson\\'s voice boomed out across the Thames (did they borrow that from the Pyongyang playbook?) it has to be said that looked fairly spectacular, even from up here in Kings Place. A bit of a mixed reception, as expected. Below the line here FlashMyGirth wonders: How much did that display cost? Austerity Britain? This new year brought to you by David Cameron and Boris Johnson. My years been ruined already. Others have been left pining for the Summer: While others seemed just to have been blown away: And on that note, we\\'re going to call it a night from here in London. Thanks for peeping in. Have a happy 2013. Bong... Bong.. (you get the picture) Well, as some might, goodbye to a fantastic year that, for many in Britain in particular, was illuminated by an unforgettable Olympics But as others might say, good riddance. Each to their own anyway. Happy New Year all. Couldn\\'t put it any better than this: It\\'s less than 10 minutes to go before midnight here in the UK. We\\'ll spare you a count-down of the type that\\'s going to be projected on to the Shell Tower ahead of a fireworks display around the London Eye. Some tweets from the scene: Spare a thought for Francois Hollande. His new year\\'s address, a set piece in French politics which was televised earlier, was concerned largely with tax. Currently grappling with record unpopularity in the polls as he faces a grim year of further economic gloom in France, he nevertheless vowed to press on with his flagship super-tax on the mega-rich, despite a damning decision by France\\'s top court to throw it out as unconstitutional. More broadly, he said he did not underestimate the \"serious difficulties\" facing the government, admitting \"this march forward has not been without bumps or setbacks\" but insisted his reforms would get France \"out of this crisis faster and stronger.\" Still, at least France beat the \\'roast beefs\\' to something: In despair about the year ahead? The Guardian\\'s Stephen Moss and colleagues has been scouring the country for something to look forward to over the next 12 months: An economic boom could be one such bright spot, he writes (bear with him): Official forecasts predict growth of at best 1%, but in Milton Keynes – one of the fastest growing towns in the UK – they are anticipating 3%-plus. \"The statistics demonstrate that Milton Keynes is early into a recession and early out,\" says the council\\'s chief executive, David Hill. Start-up businesses are booming, unemployment is falling, and it is building 1,500 homes a year. What\\'s the secret? \"We\\'ve got tremendously good transport links and the quality of life is very high,\" says the council leader, Andrew Geary. The carefully planned grid system means there are no traffic jams, the entire city centre is a shopping mall, and even the Wetherspoons near the station has tasteful wicker chairs outside. MK, as most of the locals call it, is a vision of the future – a future where the cows are made of concrete and places have initials rather than names. Oh, brave new world. Up to a million people are expected in the blocks around New York\\'s frigid Times Square for now traditional New Year\\'s Eve celebrations that end with the descent of a huge crystal ball at the stroke of midnight. It must be said, however, that this Reuters copy isn\\'t quite selling the whole experience: People filled pens in the center of Times Square hours before the end of 2012. Police set up barricades to keep away the overflow crowd. Once people entered the police pens, they were not allowed to leave, no alcohol was permitted and there were no restrooms. With temperatures in the centre of New York predicted to hover just above freezing around midnight, with a possibility of rain or snow flurries, thank goodness then for New York\\'s finest: It sounds like they\\'re partying in Edinburgh like it\\'s 1988. Simple Minds, who are this year\\'s headline act at Hogmanay, might not be to everyone\\'s taste but at least some of the other major acts (Mercury Prize nominees The Maccabees and Reverend and the Makers) should ensure that the music is brought up to the... er.. noughties? Still, sounds like a good night ahead. The Press Association reports: Early celebrations got under way in the city dubbed the home of Hogmanay last night with a torchlight parade. A record crowd estimated at 35,000, including 7,000 torch carriers, were led by the massed pipes and drums and the Up Helly Aa\\' Vikings from Shetland. The procession made its way through the city streets to the burning of the effigy of a Viking boat and a spectacular Son et Lumiere display on Calton Hill. Some more images from around the world now, starting with one that you\\'re either going to love or hate: To Russia now, where Moscow\\'s Red Square filled with spectators as fireworks exploded near the Kremlin and President Vladimir Putin said in a New Year\\'s Eve address: \"We believe that we can change the life around us and become better ourselves, that we can become more heedful, compassionate, gracious.\" Stolichnayas all round then... except perhaps for the 25 people who were arrested in Moscow for trying to hold an unsanctioned protest. The gathering at Triumphalnaya Square in central Moscow on Monday attracted 50 to 100 people. Among those reportedly arrested was the prominent radical writer Eduard Limonov (below). The Interfax news agency cited activists as saying about 25 people were taken into custody. Well, the excitement is certainly rising here in the office, where we\\'ve got at least one party popper - and we\\'re not afraid to use it. Which is slightly different from some 40percent of folks here in the UK (if one poll is anything to go by). That\\'s the percentage who say they’d be spending midnight tonight snoozing – a 10 per cent increase on last year. The main reason given for wanting to stay at home is because it’s cheaper, according to 22 per cent of respondents. Nearly a fifth said they would rather catch up on sleep than go out. Of course, it\\'s not hard to find tweets that might change some minds... Like this one perhaps: Hold on a second, it seems that we can do better than that last post. Here\\'s a video of Auckland celebrating being the world\\'s first major city to usher in 2013. Below the line here, LynSkin asks a very valid question: \"Why does NZ get missed off this list? We were two hours ahead of Sydney and had beautiful fireworks on the SkyCity Tower\". Very true. And apologies. In our defence, it certainly wasn\\'t deliberate. I can\\'t provide you with any pictures from NZ (for now at least) but the New Zealand Herald seems to be on top of things. It reports that legions of people swarmed into downtown Auckland to be with friends, but while they enjoyed the city\\'s annual Sky Tower fireworks display, residents of Wellington were left disappointed when its midnight fireworks display had to be cancelled because of windy weather. The Americans might be sweating about their economy, but thank god they haven\\'t taken their eye of the ball back in the engine room of the eurozone. It seems that more than one million people are expected at the Brandenburg Gate New Year\\'s Eve Party in Berlin to dance Gangnam Style in an attempt to creat a new flash mob world record. The previous record stands at 80 000 people apparently. A quick update now from the US, which could be the source of a potentially very rocky start to 2013 in global economic terms if a deal isn\\'t reached in terms of resolving the so-called fiscal cliff crisis that threatens America\\'s fragile economic recovery. As Ewen MacAskill reports: With only hours left until a midnight deadline for automatic tax rises and spending cuts, Barack Obama said agreement was within sight but discussions were continuing. If no deal was concluded, every taxpayer in America would be hit with steep rises from Tuesday. These would be accompanied by deep cuts in federal spending programmes, ranging from defence to welfare, in particular unemployment benefits. Obama, who flew back from holiday in Hawaii to deal with the crisis, told a press conference at the White House: \"Today it appears that an agreement to prevent this New Year\\'s Eve hike is within sight, but it is not done. There are still issues left to resolve but we are hopeful that Congress can get it done. But it is not done.\" So perhaps they won\\'t be choking on their champagne in Washington just yet. My colleague Richard Adams is running a separate liveblog here on the fiscal cliff talks (a sort of \\'BBC 1\\' to..er.. this blog\\'s \\'Channel 5\\' maybe) We\\'ve also put together a gallery of some of the celebrations that have already kicked off. Here are a few: Back in Europe now and the Pope marked the end of a difficult year by saying that despite all the death and injustice in the world, goodness prevails. Benedict celebrated New Year\\'s Eve with a vespers service in St. Peter\\'s Basilica to give thanks for 2012 and look ahead to 2013. In his homily, Benedict said it\\'s tough to remember that goodness prevails when bad news death, violence and injustice \"makes more noise than good.\" He said taking time to meditate in prolonged reflection and prayer can help \"find healing from the inevitable wounds of daily life.\" Here\\'s something for New Year\\'s Eve refuseniks. Do feel free to vote if you intend to boycott the whole shebang. Thanks for your comments below the line by the way. For what it\\'s worth, my favourite is from Benulek , who says: \" A New Year\\'s Eve liveblog? As ABBA put it, \"we might as well lay down and die...\" With the eloquence that we have become used to, here\\'s the verdict from the woman herself on what went down some hours ago in Sydney: Meanwhile, looks like someone\\'s going to be disappointed: So Sydney\\'s skyline has already erupted in fireworks, and extravagant displays have followed in Hong Kong and Beijing. Here\\'s a quick round-up of how celebrations are going down in some parts of Asia and the Pacific (with thanks to the Associated Press). Australia The balmy summer night in Sydney was split by 7 tons of fireworks fired from rooftops and barges, many cascading from the city\\'s Harbor Bridge, in a $6.9 million pyrotechnic extravaganza billed by organizers as the world\\'s largest. The Sydney crowds were undiminished by Australian government warnings that the Washington deadlock on the U.S. debt crisis was partly to blame for a slowing Australian economy. Kylie Minogue hosted the event. Burma After nearly five decades under military regimes that discouraged or banned big public gatherings, about 90,000 people experienced the country\\'s first New Year\\'s Eve countdown in a field in the largest city of Yangon. \"We feel like we are in a different world,\" said Yu Thawda, a university student who came with three of her friends. Indonesia Jakarta\\'s street party centered on a 7-kilometer (4-mile) thoroughfare closed to traffic from nightfall until after midnight. Workers erected 16 large stages along the normally clogged, eight-lane highway through the heart of the city. Philippines. In a country where many are recovering from devastation from a recent typhoon, health officials have hit upon a successful way to stop revelers from setting off huge illegal firecrackers that maim and injure hundreds of Filipinos each year. A health official, Eric Tayag, donned the outfit of South Korean star PSY and danced to his YouTube hit \"Gangnam Style\" video while preaching against the use of illegal firecrackers on TV. Let\\'s not allow the Australians (and here at least) the North Koreans to get all the credit for being the first to ring in the new year in style. In the central tropical Pacific Ocean, Samoa and parts of the island nation of Kiribati (which is better known as Christmas Island and has a population of more than 5,500) were among the first to ring in the new year. As this report also points out: For the second time, residents in Samoa were also among the first people in the world to welcome the new year. The island country changed its timezone at the end of December 2011 by moving to the west of the International Date Line in an effort to boost its economy by doing business with Australia and New Zealand. First things first. Let\\'s not forget that in Pyongyang they\\'re actually celebrating the the arrival of a new year marked as \"Juche 102\" on North Korean calendars. As every comrade knows, Juche means self-reliance, the North Korean ideology of independence promoted by national founder Kim Il Sung, who was born 102 years ago. For those interested, here\\'s a link to a jaunty little editorial by Rodong Sinmun, Joson Inmingun and Chongnyon Jonwi, the DPRK\\'s leading newspapers (Wonder what they make of Leveson?): It says: Glorify this year 2012 as a year of proud victory, a year when an era of prosperity is unfolding, true to the instructions of the great General Kim Jong Il. Good evening and welcome to our coverage from London of the ringing in of a new year around the world. As usual, Sydney\\'s celebrations have provided the first iconic images of the new year, which started sweeping across the Pacific some time ago. So, despite the so-called fiscal cliff in the US threatening to reverberate globally, the tattered economies of Europe still hanging by a thread and a range of conflicts raging elsewhere, we\\'re going to spend a little while looking in a fairly light-hearted way at how the arrival of 2013 is being greeted. Do feel free to comment below on your hopes, fears, resolutions or downright indifference towards what is likely to happen over the next 12 months. After all, with 2012 behind us, can things get any worse?'"
      ]
     },
     "execution_count": 51,
     "metadata": {},
     "output_type": "execute_result"
    }
   ],
   "source": [
    "data['response']['results'][0]['fields']['bodyText']"
   ]
  },
  {
   "cell_type": "code",
   "execution_count": 54,
   "metadata": {},
   "outputs": [
    {
     "data": {
      "text/plain": [
       "'<div id=\"block-50e22a5eb579a9dd79231e94\" class=\"block\" data-block-contributor=\"\"> <p class=\"block-time published-time\"> <time datetime=\"2013-01-01T00:14:22.418Z\">12.14am <span class=\"timezone\">GMT</span></time> </p>    <div class=\"block-elements\">  <p>Notwithstanding the slightly eerie moment when a clip of Boris Johnson\\'s voice boomed out across the Thames (did they borrow that from the Pyongyang playbook?) it has to be said that looked fairly spectacular, even from up here in <a href=\"http://www.guardian.co.uk/media/gallery/2008/dec/15/theguardian-pressandpublishing\">Kings Place</a>.</p>  <figure class=\"element element-tweet\" data-canonical-url=\"https://twitter.com/Earth_Pics/status/285898429824118785\">  <blockquote class=\"twitter-tweet\"><p>London Tower Bridge Fireworks! Happy new year England! <a href=\"http://t.co/sA62K1Cb\" title=\"http://twitter.com/Earth_Pics/status/285898429824118785/photo/1\">twitter.com/Earth_Pics/sta…</a></p>&mdash; Earthpics (@Earth_Pics) <a href=\"https://twitter.com/Earth_Pics/status/285898429824118785\" data-datetime=\"2013-01-01T00:01:12+00:00\">January 1, 2013</a></blockquote> </figure>  <p>A bit of a mixed reception, as expected. Below the line here <a href=\"http://www.guardian.co.uk/discussion/user/id/4484955\">FlashMyGirth</a> wonders:</p> <p>How much did that display cost? Austerity Britain? This new year brought to you by David Cameron and Boris Johnson. My years been ruined already.</p> <p>Others have been left pining for the Summer:</p>  <figure class=\"element element-tweet\" data-canonical-url=\"https://twitter.com/annadoble/status/285903955073040384\">  <blockquote class=\"twitter-tweet\"><p>Good fireworks... gave me massive <a href=\"https://twitter.com/search/%23london2012\">#london2012</a> withdrawals though..... Happy 2013.</p>&mdash; Anna Doble (@annadoble) <a href=\"https://twitter.com/annadoble/status/285903955073040384\" data-datetime=\"2013-01-01T00:23:09+00:00\">January 1, 2013</a></blockquote> </figure>  <p>While others seemed just to have been blown away:</p>  <figure class=\"element element-tweet\" data-canonical-url=\"https://twitter.com/AliBunkallSKY/status/285900171118788608\">  <blockquote class=\"twitter-tweet\"><p>I\\'m normally a bit of a fireworks grinch but London\\'s tonight are pretty spectacular. Happy New Year!</p>&mdash; Alistair Bunkall (@AliBunkallSKY) <a href=\"https://twitter.com/AliBunkallSKY/status/285900171118788608\" data-datetime=\"2013-01-01T00:08:07+00:00\">January 1, 2013</a></blockquote> </figure>  <figure class=\"element element-tweet\" data-canonical-url=\"https://twitter.com/Charles_HRH/status/285902795385741313\">  <blockquote class=\"twitter-tweet\"><p>Dear World, that\\'s how you do fireworks. Regards, London.</p>&mdash; Prince Charles (@Charles_HRH) <a href=\"https://twitter.com/Charles_HRH/status/285902795385741313\" data-datetime=\"2013-01-01T00:18:32+00:00\">January 1, 2013</a></blockquote> </figure>  <p>And on that note, we\\'re going to call it a night from here in London. Thanks for peeping in. Have a happy 2013.</p> </div>   <p class=\"block-time updated-time\">Updated <time datetime=\"2013-01-01T00:45:26.059Z\">at 12.45am GMT</time></p>  </div> <div id=\"block-50e2279195cb94a7be21b5df\" class=\"block is-key-event\" data-block-contributor=\"\"> <p class=\"block-time published-time\"> <time datetime=\"2013-01-01T00:02:26.101Z\">12.02am <span class=\"timezone\">GMT</span></time> </p>   <h2 class=\"block-title\">Key event</h2>  <div class=\"block-elements\">  <p>Bong... Bong.. (you get the picture)</p> <p>Well, as some might, goodbye to a fantastic year that, for many in Britain in particular, was illuminated by an unforgettable Olympics</p> <p>But as others might say, good riddance.</p> <p>Each to their own anyway. Happy New Year all.</p>  <figure class=\"element element-image\" data-media-id=\"gu-fc-029dd7a4-97ea-423f-811b-a9996ac86f2e\"> <img src=\"https://static.guim.co.uk/sys-images/Guardian/Pix/pictures/2013/1/1/1356999822212/Champagne-bottle-001.jpg\" alt=\"Champagne bottle\" width=\"460\" height=\"276\" class=\"gu-image\" /> <figcaption> <span class=\"element-image__caption\">Our finest glasses have been brought out of the cupboard.</span> </figcaption> </figure> </div>   <p class=\"block-time updated-time\">Updated <time datetime=\"2013-01-01T00:24:49.338Z\">at 12.24am GMT</time></p>  </div> <div id=\"block-50e2266fb579a9dd79231e93\" class=\"block\" data-block-contributor=\"\"> <p class=\"block-time published-time\"> <time datetime=\"2012-12-31T23:57:35.283Z\">11.57pm <span class=\"timezone\">GMT</span></time> </p>    <div class=\"block-elements\">  <p>Couldn\\'t put it any better than this:</p>  <figure class=\"element element-tweet\" data-canonical-url=\"https://twitter.com/big_ben_clock/status/285897143875678208\">  <blockquote class=\"twitter-tweet\"><p>FOUR</p>&mdash; Big Ben (@big_ben_clock) <a href=\"https://twitter.com/big_ben_clock/status/285897143875678208\" data-datetime=\"2012-12-31T23:56:05+00:00\">December 31, 2012</a></blockquote> </figure> </div>   </div> <div id=\"block-50e22302b579a9dd79231e91\" class=\"block\" data-block-contributor=\"\"> <p class=\"block-time published-time\"> <time datetime=\"2012-12-31T23:54:48.091Z\">11.54pm <span class=\"timezone\">GMT</span></time> </p>    <div class=\"block-elements\">  <p>It\\'s less than 10 minutes to go before midnight here in the UK. We\\'ll spare you a count-down of the type that\\'s going to be projected on to the Shell Tower ahead of a fireworks display around the London Eye.</p> <p>Some tweets from the scene:</p>  <figure class=\"element element-tweet\" data-canonical-url=\"https://twitter.com/MPSinthesky/status/285848091482013696\">  <blockquote class=\"twitter-tweet\"><p>Could we ask those of you by the Thames please stop lasering the aircraft.We don\\'t want to have to waste resources arresting you. Thank you.</p>&mdash; MPS Helicopter (@MPSinthesky) <a href=\"https://twitter.com/MPSinthesky/status/285848091482013696\" data-datetime=\"2012-12-31T20:41:10+00:00\">December 31, 2012</a></blockquote> </figure>  <figure class=\"element element-tweet\" data-canonical-url=\"https://twitter.com/SHolmesSH/status/285896052752674816\">  <blockquote class=\"twitter-tweet\"><p>10 mins and I\\'m freezing cold standing next to the Thames River. . Hurry Up I want to see fireworks then get drunk!</p>&mdash; Sherlock (@SHolmesSH) <a href=\"https://twitter.com/SHolmesSH/status/285896052752674816\" data-datetime=\"2012-12-31T23:51:45+00:00\">December 31, 2012</a></blockquote> </figure>  <figure class=\"element element-tweet\" data-canonical-url=\"https://twitter.com/TheNikitaC/status/285896321125216257\">  <blockquote class=\"twitter-tweet\"><p>On the Thames waiting to countdown 2013 with @<a href=\"https://twitter.com/therealnihal\">therealnihal</a></p>&mdash; Nikita Chauhan (@TheNikitaC) <a href=\"https://twitter.com/TheNikitaC/status/285896321125216257\" data-datetime=\"2012-12-31T23:52:49+00:00\">December 31, 2012</a></blockquote> </figure> </div>   <p class=\"block-time updated-time\">Updated <time datetime=\"2013-01-01T00:07:05.734Z\">at 12.07am GMT</time></p>  </div> <div id=\"block-50e21dfbb579a9dd79231e8f\" class=\"block\" data-block-contributor=\"\"> <p class=\"block-time published-time\"> <time datetime=\"2012-12-31T23:21:31.235Z\">11.21pm <span class=\"timezone\">GMT</span></time> </p>    <div class=\"block-elements\">  <p>Spare a thought for Francois Hollande. His new year\\'s address, a set piece in French politics which was televised earlier, <a href=\"http://www.guardian.co.uk/world/2012/dec/31/francois-hollande-french-super-tax\">was concerned largely with tax.</a></p> <p>Currently grappling with record unpopularity in the polls as he faces a grim year of further economic gloom in France, he nevertheless vowed to press on with his flagship super-tax on the mega-rich, despite a damning decision by France\\'s top court to throw it out as unconstitutional.</p> <p>More broadly, he said he did not underestimate the \"serious difficulties\" facing the government, admitting \"this march forward has not been without bumps or setbacks\" but insisted his reforms would get France \"out of this crisis faster and stronger.\"</p> <p>Still, at least France beat the \\'roast beefs\\' to something:</p>  <figure class=\"element element-image\" data-media-id=\"gu-fc-5455f68e-0433-4e0b-a301-ec26a67382df\"> <img src=\"https://static.guim.co.uk/sys-images/Guardian/Pix/pictures/2012/12/31/1356997504710/94c50fbc-76c7-42a1-abcb-8f6da236f55b-460.jpeg\" alt=\"Revellers take part in New Year celebrations near the Arc de Triomphe on the Champs Elysees Avenue\" width=\"460\" height=\"276\" class=\"gu-image\" /> <figcaption> <span class=\"element-image__caption\">Revellers take part in New Year celebrations near the Arc de Triomphe on the Champs Elysees Avenue  Photograph: BENOIT TESSIER/REUTERS</span> </figcaption> </figure> </div>   <p class=\"block-time updated-time\">Updated <time datetime=\"2013-01-01T01:02:44.108Z\">at 1.02am GMT</time></p>  </div> <div id=\"block-50e21a43b579a9dd79231e8d\" class=\"block\" data-block-contributor=\"\"> <p class=\"block-time published-time\"> <time datetime=\"2012-12-31T23:05:39.710Z\">11.05pm <span class=\"timezone\">GMT</span></time> </p>    <div class=\"block-elements\">  <p>In despair about the year ahead? The Guardian\\'s Stephen Moss and colleagues has been scouring the country for <a href=\"http://www.guardian.co.uk/uk/2012/dec/31/reasons-to-be-cheerful-2013\">something to look forward to over the next 12 months</a>:</p> <p>An economic boom could be one such bright spot, he writes (bear with him): </p> <blockquote class=\"quoted\"> <p>Official forecasts predict growth of at best 1%, but in Milton Keynes – one of the fastest growing towns in the UK – they are anticipating 3%-plus.</p> <p>\"The statistics demonstrate that Milton Keynes is early into a recession and early out,\" says the council\\'s chief executive, David Hill. Start-up businesses are booming, unemployment is falling, and it is building 1,500 homes a year.</p> <p>What\\'s the secret? \"We\\'ve got tremendously good transport links and the quality of life is very high,\" says the council leader, Andrew Geary.</p> <p>The carefully planned grid system means there are no traffic jams, the entire city centre is a shopping mall, and even the Wetherspoons near the station has tasteful wicker chairs outside.</p> <p>MK, as most of the locals call it, is a vision of the future – a future where the cows are made of concrete and places have initials rather than names. Oh, brave new world.</p> </blockquote> </div>   </div> <div id=\"block-50e215ef95cb94a7be21b5de\" class=\"block\" data-block-contributor=\"\"> <p class=\"block-time published-time\"> <time datetime=\"2012-12-31T22:47:12.051Z\">10.47pm <span class=\"timezone\">GMT</span></time> </p>    <div class=\"block-elements\">  <p>Up to a million people are expected in the blocks around New York\\'s frigid Times Square for now traditional New Year\\'s Eve celebrations that end with the descent of a huge crystal ball at the stroke of midnight.</p> <p>It must be said, however, that this Reuters copy isn\\'t quite selling the whole experience:</p> <blockquote> <p>People filled pens in the center of Times Square hours before the end of 2012. Police set up barricades to keep away the overflow crowd.</p> <p>Once people entered the police pens, they were not allowed to leave, no alcohol was permitted and there were no restrooms.</p> </blockquote> <p>With temperatures in the centre of New York predicted to hover just above freezing around midnight, with a possibility of rain or snow flurries, thank goodness then for New York\\'s finest:</p>  <figure class=\"element element-tweet\" data-canonical-url=\"https://twitter.com/ginalee9292/status/285857284008071168\">  <blockquote class=\"twitter-tweet\"><p>Asking NYPD for instructions at <a href=\"https://twitter.com/search/%23nye\">#nye</a> <a href=\"https://twitter.com/search/%23timessquare\">#timessquare</a>, he says \"i\\'m a police officer not a tour guide.\" This is nonsense.</p>&mdash; Gina Lee (@ginalee9292) <a href=\"https://twitter.com/ginalee9292/status/285857284008071168\" data-datetime=\"2012-12-31T21:17:42+00:00\">December 31, 2012</a></blockquote> </figure> </div>   </div> <div id=\"block-50e211d295cb94a7be21b5dd\" class=\"block\" data-block-contributor=\"\"> <p class=\"block-time published-time\"> <time datetime=\"2012-12-31T22:29:38.563Z\">10.29pm <span class=\"timezone\">GMT</span></time> </p>    <div class=\"block-elements\">  <p>It sounds like they\\'re partying in Edinburgh like it\\'s 1988.</p> <p>Simple Minds, who are this year\\'s headline act at <a href=\"http://www.edinburghshogmanay.com/\">Hogmanay</a>, might not be to everyone\\'s taste but at least some of the other major acts (Mercury Prize nominees The Maccabees and Reverend and the Makers) should ensure that the music is brought up to the... er.. noughties?</p> <p>Still, sounds like a good night ahead. The Press Association reports:</p> <blockquote> <p>Early celebrations got under way in the city dubbed the home of Hogmanay last night with a torchlight parade.</p> <p>A record crowd estimated at 35,000, including 7,000 torch carriers, were led by the massed pipes and drums and the Up Helly Aa\\' Vikings from Shetland.</p> <p>The procession made its way through the city streets to the burning of the effigy of a Viking boat and a spectacular Son et Lumiere display on Calton Hill.</p> </blockquote> </div>   <p class=\"block-time updated-time\">Updated <time datetime=\"2012-12-31T22:52:31.837Z\">at 10.52pm GMT</time></p>  </div> <div id=\"block-50e20ee0b579a9dd79231e8b\" class=\"block\" data-block-contributor=\"\"> <p class=\"block-time published-time\"> <time datetime=\"2012-12-31T22:17:04.513Z\">10.17pm <span class=\"timezone\">GMT</span></time> </p>    <div class=\"block-elements\">  <p>Some more images from around the world now, starting with one that you\\'re either going to love or hate:</p>  <figure class=\"element element-image\" data-media-id=\"gu-fc-b2135ff7-a90c-49d6-94e1-60e5c5c6adab\"> <img src=\"https://static.guim.co.uk/sys-images/Guardian/Pix/pictures/2012/12/31/1356991343679/345c31a8-a083-455d-8aeb-9505bff979ba-460.jpeg\" alt=\"Sadie, dressed in a Santa outfit, parades in Key West, Florida, during the Key West Dachshund Walk, an annual New Year\\'s Eve tradition that attracted almost 200 canines.\" width=\"460\" height=\"276\" class=\"gu-image\" /> <figcaption> <span class=\"element-image__caption\">Sadie, dressed in a Santa outfit, parades in Key West, Florida, during the Key West Dachshund Walk, an annual New Year\\'s Eve tradition that attracted almost 200 canines. Photograph: HANDOUT/REUTERS<br /></span> </figcaption> </figure>  <figure class=\"element element-image\" data-media-id=\"gu-fc-90fc6781-e13b-47fe-bf83-697ebd176a3e\"> <img src=\"https://static.guim.co.uk/sys-images/Guardian/Pix/pictures/2012/12/31/1356991517238/fed6d324-2d2a-4046-95be-78de83d047be-460.jpeg\" alt=\"Palestinians celebrate New Year in the West Bank city of Ramallah\" width=\"460\" height=\"276\" class=\"gu-image\" /> <figcaption> <span class=\"element-image__caption\">Palestinians celebrate New Year in the West Bank city of Ramallah  Photograph: ABBAS MOMANI/AFP/Getty Images</span> </figcaption> </figure>  <figure class=\"element element-image\" data-media-id=\"gu-fc-e46b0508-bb6b-48f9-8654-0078471b66c3\"> <img src=\"https://static.guim.co.uk/sys-images/Guardian/Pix/pictures/2012/12/31/1356992084642/43a705d5-c7f5-44e3-a43c-52a448b1992c-460.jpeg\" alt=\"Nadine Rober from Vienna, holds a sparkler during the Hogmanay street party celebrations in Edinburgh\" width=\"460\" height=\"276\" class=\"gu-image\" /> <figcaption> <span class=\"element-image__caption\">Nadine Rober from Vienna, holds a sparkler during the Hogmanay street party celebrations in Edinburgh Photograph: DAVID MOIR/REUTERS<br /></span> </figcaption> </figure>  <figure class=\"element element-image\" data-media-id=\"gu-fc-871ef61c-ebe7-4880-8321-775dd7f50ac1\"> <img src=\"https://static.guim.co.uk/sys-images/Guardian/Pix/pictures/2012/12/31/1356991810624/New-Year-carousel--008.jpg\" alt=\"Drumming band Spark during the New Year celebration parade through Newcastle city centre\" width=\"460\" height=\"276\" class=\"gu-image\" /> <figcaption> <span class=\"element-image__caption\">Drumming band Spark during the New Year celebration parade through Newcastle city centre</span> </figcaption> </figure> </div>   <p class=\"block-time updated-time\">Updated <time datetime=\"2012-12-31T22:18:10.329Z\">at 10.18pm GMT</time></p>  </div> <div id=\"block-50e2091595cb94a7be21b5dc\" class=\"block\" data-block-contributor=\"\"> <p class=\"block-time published-time\"> <time datetime=\"2012-12-31T21:52:21.161Z\">9.52pm <span class=\"timezone\">GMT</span></time> </p>    <div class=\"block-elements\">  <p>To Russia now, where Moscow\\'s Red Square filled with spectators as fireworks exploded near the Kremlin and President Vladimir Putin said in a New Year\\'s Eve address: \"We believe that we can change the life around us and become better ourselves, that we can become more heedful, compassionate, gracious.\"</p> <p>Stolichnayas all round then... except perhaps for the <a href=\"http://www.guardian.co.uk/world/2012/dec/31/russian-police-arrest-new-year\">25 people who were arrested in Moscow for trying to hold an unsanctioned protest</a>.</p> <p>The gathering at Triumphalnaya Square in central Moscow on Monday attracted 50 to 100 people.</p> <p>Among those reportedly arrested was the prominent radical writer Eduard Limonov (below). The Interfax news agency cited activists as saying about 25 people were taken into custody.</p>  <figure class=\"element element-image\" data-media-id=\"gu-fc-36a7c48c-b837-4da3-83ee-2b478c301d50\"> <img src=\"https://static.guim.co.uk/sys-images/Guardian/Pix/pictures/2012/12/31/1356990677533/0287767f-be97-4df9-838f-d354017604ee-460.jpeg\" alt=\"Russian police detain opposition activist Edouard Limonov in downtown Moscow\" width=\"460\" height=\"276\" class=\"gu-image\" /> <figcaption> <span class=\"element-image__caption\">Russian police detain opposition activist Edouard Limonov in downtown Moscow  Photograph: Alexander Zemlianichenko/AP</span> </figcaption> </figure>  <figure class=\"element element-image\" data-media-id=\"gu-fc-735e86bb-f071-4175-b961-2571ccf0ec3a\"> <img src=\"https://static.guim.co.uk/sys-images/Guardian/Pix/pictures/2012/12/31/1356990502648/c2c85074-1a55-405b-9667-42acbcb765c8-460.jpeg\" alt=\"Celebrations in Red Square.\" width=\"460\" height=\"276\" class=\"gu-image\" /> <figcaption> <span class=\"element-image__caption\">Celebrations in Red Square.  Photograph: TATYANA MAKEYEVA/REUTERS</span> </figcaption> </figure> </div>   <p class=\"block-time updated-time\">Updated <time datetime=\"2012-12-31T21:57:44.113Z\">at 9.57pm GMT</time></p>  </div> <div id=\"block-50e2035e95cb94a7be21b5d9\" class=\"block\" data-block-contributor=\"\"> <p class=\"block-time published-time\"> <time datetime=\"2012-12-31T21:27:58.148Z\">9.27pm <span class=\"timezone\">GMT</span></time> </p>    <div class=\"block-elements\">  <p>Well, the excitement is certainly rising here in the office, where we\\'ve got at least one party popper - and we\\'re not afraid to use it.</p> <p>Which is slightly different from some 40percent of folks here in the UK (<a href=\"http://uk.lifestyle.yahoo.com/knackered-brits-will-spend-new-year%E2%80%99s-eve-catching-up-on-sleep-after-an-exhausting-christmas-124607027.html\">if one poll is anything to go by</a>). That\\'s the percentage who say they’d be spending midnight tonight snoozing – a 10 per cent increase on last year.</p> <p>The main reason given for wanting to stay at home is because it’s cheaper, according to 22 per cent of respondents. Nearly a fifth said they would rather catch up on sleep than go out.</p>  <figure class=\"element element-tweet\" data-canonical-url=\"https://twitter.com/INDEPENDENT_MG/status/285854219771183105\">  <blockquote class=\"twitter-tweet\"><p>About 10 years ago, I suddenly realised I didn\\'t have to go out on New Years Eve. What a blessed release that was.</p>&mdash; Mark Gretton (@INDEPENDENT_MG) <a href=\"https://twitter.com/INDEPENDENT_MG/status/285854219771183105\" data-datetime=\"2012-12-31T21:05:31+00:00\">December 31, 2012</a></blockquote> </figure>  <figure class=\"element element-tweet\" data-canonical-url=\"https://twitter.com/MelodyMetcalf/status/285850334503518208\">  <blockquote class=\"twitter-tweet\"><p>I\\'m going nowhere. It\\'s always been my dream to spend New Year on twitter.*whispers* I am a winner. .*does tiny air-punch*</p>&mdash; Mel Metcalf (@MelodyMetcalf) <a href=\"https://twitter.com/MelodyMetcalf/status/285850334503518208\" data-datetime=\"2012-12-31T20:50:05+00:00\">December 31, 2012</a></blockquote> </figure>  <p>Of course, it\\'s not hard to find tweets that might change some minds... Like this one perhaps:</p>  <figure class=\"element element-tweet\" data-canonical-url=\"https://twitter.com/TellyDubby/status/285860623798128641\">  <blockquote class=\"twitter-tweet\"><p>And these will always be waiting for you too. <a href=\"http://t.co/kVIvcRFH\" title=\"http://twitter.com/TellyDubby/status/285860623798128641/photo/1\">twitter.com/TellyDubby/sta…</a></p>&mdash; Helen O\\'Rahilly (@TellyDubby) <a href=\"https://twitter.com/TellyDubby/status/285860623798128641\" data-datetime=\"2012-12-31T21:30:58+00:00\">December 31, 2012</a></blockquote> </figure> </div>   <p class=\"block-time updated-time\">Updated <time datetime=\"2012-12-31T21:35:01.179Z\">at 9.35pm GMT</time></p>  </div> <div id=\"block-50e1f9a795cb94a7be21b5d8\" class=\"block\" data-block-contributor=\"\"> <p class=\"block-time published-time\"> <time datetime=\"2012-12-31T20:46:31.475Z\">8.46pm <span class=\"timezone\">GMT</span></time> </p>    <div class=\"block-elements\">  <p>Hold on a second, it seems that we can do better than that last post. Here\\'s a video of Auckland celebrating being the world\\'s first major city to usher in 2013.</p>       <figure class=\"element element-video\" data-canonical-url=\"http://www.guardian.co.uk/lifeandstyle/video/2012/dec/31/new-zealand-new-year-auckland-fireworks-video\"                                data-show-ads=\"true\"                        data-video-name=\"New Zealand celebrates new year with Auckland fireworks display - video\"                        > <object width=\"460\" height=\"307\"><param name=\"wmode\" value=\"opaque\"></param><param name=\"movie\" value=\"http://www.guardian.co.uk/video/embed\"></param><param name=\"allowFullScreen\" value=\"true\"></param><param name=\"allowscriptaccess\" value=\"always\"></param><param name=\"flashvars\" value=\"endpoint=http://www.guardian.co.uk/lifeandstyle/video/2012/dec/31/new-zealand-new-year-auckland-fireworks-video/json\"></param><embed src=\"http://www.guardian.co.uk/video/embed\" type=\"application/x-shockwave-flash\" allowscriptaccess=\"always\" allowfullscreen=\"true\" width=\"460\" height=\"307\" flashvars=\"endpoint=http://www.guardian.co.uk/lifeandstyle/video/2012/dec/31/new-zealand-new-year-auckland-fireworks-video/json\" wmode=\"opaque\"></embed></object> </figure>  </div>   </div> <div id=\"block-50e1f8fa95cb94a7be21b5d7\" class=\"block\" data-block-contributor=\"\"> <p class=\"block-time published-time\"> <time datetime=\"2012-12-31T20:43:38.950Z\">8.43pm <span class=\"timezone\">GMT</span></time> </p>    <div class=\"block-elements\">  <p>Below the line here, <a href=\"http://www.guardian.co.uk/discussion/user/id/2612933\">LynSkin </a>asks a very valid question:</p> <p>\"Why does NZ get missed off this list? We were two hours ahead of Sydney and had beautiful fireworks on the SkyCity Tower\".</p> <p>Very true. And apologies. In our defence, it certainly wasn\\'t deliberate. I can\\'t provide you with any pictures from NZ (for now at least) bu<a href=\"http://www.nzherald.co.nz/nz/news/article.cfm?c_id=1&amp;objectid=10856829\">t the New Zealand Herald seems to be on top of things</a>.</p> <p>It reports that legions of people swarmed into downtown Auckland to be with friends, but while they enjoyed the city\\'s annual Sky Tower fireworks display, residents of Wellington were left disappointed when its midnight fireworks display had to be cancelled because of windy weather.</p> </div>   </div> <div id=\"block-50e1f76195cb94a7be21b5d5\" class=\"block\" data-block-contributor=\"\"> <p class=\"block-time published-time\"> <time datetime=\"2012-12-31T20:36:49.967Z\">8.36pm <span class=\"timezone\">GMT</span></time> </p>    <div class=\"block-elements\">  <p>The Americans might be sweating about their economy, but thank god they haven\\'t taken their eye of the ball back in the engine room of the eurozone.</p> <p>It seems that <a href=\"http://www.novinite.com/view_news.php?id=146457\">more than one million people are expected</a> at the Brandenburg Gate New Year\\'s Eve Party in Berlin to dance Gangnam Style in an attempt to creat a new flash mob world record.</p> <p>The previous record stands at 80 000 people apparently.</p> </div>   <p class=\"block-time updated-time\">Updated <time datetime=\"2012-12-31T20:38:31.346Z\">at 8.38pm GMT</time></p>  </div> <div id=\"block-50e1f561b579a9dd79231e87\" class=\"block\" data-block-contributor=\"\"> <p class=\"block-time published-time\"> <time datetime=\"2012-12-31T20:28:17.393Z\">8.28pm <span class=\"timezone\">GMT</span></time> </p>    <div class=\"block-elements\">  <p>A quick update now from the US, which could be the source of a potentially very rocky start to 2013 in global economic terms if a deal isn\\'t reached in terms of resolving the so-called fiscal cliff crisis that threatens America\\'s fragile economic recovery.</p> <p>As Ewen MacAskill <a href=\"http://www.guardian.co.uk/world/2012/dec/31/obama-fiscal-cliff-within-sight\">reports</a>:</p> <blockquote> <p>With only hours left until a midnight deadline for automatic tax rises and spending cuts, <a href=\"http://www.guardian.co.uk/world/barack-obama\">Barack Obama</a> said agreement was within sight but discussions were continuing.</p> <p>If no deal was concluded, every taxpayer in America would be hit with steep rises from Tuesday. These would be accompanied by deep cuts in federal spending programmes, ranging from defence to welfare, in particular unemployment benefits.</p> <p>Obama, who flew back from holiday in Hawaii to deal with the crisis, told a press conference at the White House: \"Today it appears that an agreement to prevent this New Year\\'s Eve hike is within sight, but it is not done. There are still issues left&#xa0;to resolve but we are hopeful that Congress can get it done. But it is not done.\"</p> </blockquote> <p>So perhaps they won\\'t be choking on their champagne in Washington just yet. My colleague Richard Adams is running a separate liveblog <a href=\"http://www.guardian.co.uk/world/2012/dec/31/fiscal-cliff-congress-deadline-live\">here</a> on the fiscal cliff talks (a sort of \\'BBC 1\\' to..er.. this blog\\'s \\'Channel 5\\' maybe)</p>  <figure class=\"element element-image\" data-media-id=\"gu-fc-2d7994aa-7a7b-4cb8-9b8a-3619a76bbf04\"> <img src=\"https://static.guim.co.uk/sys-images/Guardian/Pix/pictures/2012/12/31/1356985840848/beae4f54-5308-4c47-8ed5-e0088c05b708-460.jpeg\" alt=\"President Barack Obama speaks about the fiscal cliff at the White House in Washington\" width=\"460\" height=\"276\" class=\"gu-image\" /> <figcaption> <span class=\"element-image__caption\">President Barack Obama speaks about the fiscal cliff at the White House in Washington  Photograph: Carolyn Kaster/AP</span> </figcaption> </figure> </div>   <p class=\"block-time updated-time\">Updated <time datetime=\"2012-12-31T20:31:25.088Z\">at 8.31pm GMT</time></p>  </div> <div id=\"block-50e1f2b0b579a9dd79231e86\" class=\"block\" data-block-contributor=\"\"> <p class=\"block-time published-time\"> <time datetime=\"2012-12-31T20:16:48.541Z\">8.16pm <span class=\"timezone\">GMT</span></time> </p>    <div class=\"block-elements\">  <p>We\\'ve also <a href=\"http://www.guardian.co.uk/lifeandstyle/gallery/2012/dec/31/new-year-celebrations-in-pictures#/?picture=401735431&amp;index=0\">put together a gallery</a> of some of the celebrations that have already kicked off. Here are a few:</p>  <figure class=\"element element-image\" data-media-id=\"gu-fc-4c7aedae-6e0e-48b5-84c3-9792d2408722\"> <img src=\"https://static.guim.co.uk/sys-images/Guardian/Pix/pictures/2012/12/31/1356984885634/c6727f9b-94e3-44f3-a856-99198eb2137e-460.jpeg\" alt=\"Balloons are released to celebrate the New Year during an annual countdown ceremony in Tokyo\" width=\"460\" height=\"276\" class=\"gu-image\" /> <figcaption> <span class=\"element-image__caption\">Balloons are released to celebrate the New Year during an annual countdown ceremony in Tokyo  Photograph: Kazuhiro Nogi / AFP/Getty</span> </figcaption> </figure>  <figure class=\"element element-image\" data-media-id=\"gu-fc-e2c3c354-c2f6-4a24-a490-f15a8512cbd8\"> <img src=\"https://static.guim.co.uk/sys-images/Guardian/Pix/pictures/2012/12/31/1356984993800/e88ad3c8-33dc-4209-a6e6-62698f90281b-460.jpeg\" alt=\"Fireworks explode near Malaysia\\'s iconic Petronas Twin Towers in Kuala Lumpur\" width=\"460\" height=\"276\" class=\"gu-image\" /> <figcaption> <span class=\"element-image__caption\">Fireworks explode near Malaysia\\'s iconic Petronas Twin Towers in Kuala Lumpur  Photograph: Zuma/Rex Features</span> </figcaption> </figure> </div>   </div> <div id=\"block-50e1f16495cb94a7be21b5d4\" class=\"block\" data-block-contributor=\"\"> <p class=\"block-time published-time\"> <time datetime=\"2012-12-31T20:11:16.148Z\">8.11pm <span class=\"timezone\">GMT</span></time> </p>    <div class=\"block-elements\">  <p>Back in Europe now and the Pope marked the end of a difficult year by saying that despite all the death and injustice in the world, goodness prevails.</p> <p>Benedict celebrated New Year\\'s Eve with a vespers service in St. Peter\\'s Basilica to give thanks for 2012 and look ahead to 2013.</p> <p>In his homily, Benedict said it\\'s tough to remember that goodness prevails when bad news death, violence and injustice \"makes more noise than good.\"</p> <p>He said taking time to meditate in prolonged reflection and prayer can help \"find healing from the inevitable wounds of daily life.\"</p> </div>   </div> <div id=\"block-50e1f15695cb94a7be21b5d3\" class=\"block\" data-block-contributor=\"\"> <p class=\"block-time published-time\"> <time datetime=\"2012-12-31T20:11:02.237Z\">8.11pm <span class=\"timezone\">GMT</span></time> </p>    <div class=\"block-elements\">  <p><a href=\"http://www.guardian.co.uk/commentisfree/poll/2012/dec/31/are-you-new-years-eve-refusenik-poll\">Here\\'s something</a> for New Year\\'s Eve refuseniks. Do feel free to vote if you intend to boycott the whole shebang. </p> <p>Thanks for your comments below the line by the way. For what it\\'s worth, my favourite is from&#xa0;<a href=\"http://www.guardian.co.uk/discussion/user/id/1478608\">Benulek</a> , who says: <a href=\"http://www.guardian.co.uk/discussion/user/id/1478608\">\" A New Year\\'s Eve liveblog? As ABBA put it, \"we might as well lay down and die...\"</a></p> </div>   </div> <div id=\"block-50e1ee8c95cb94a7be21b5d1\" class=\"block\" data-block-contributor=\"\"> <p class=\"block-time published-time\"> <time datetime=\"2012-12-31T19:59:08.772Z\">7.59pm <span class=\"timezone\">GMT</span></time> </p>    <div class=\"block-elements\">  <p>With the eloquence that we have become used to, here\\'s the verdict from the woman herself on what went down some hours ago in Sydney:</p>  <figure class=\"element element-tweet\" data-canonical-url=\"https://twitter.com/kylieminogue/status/285739423449092096\">  <blockquote class=\"twitter-tweet\"><p><a href=\"https://twitter.com/search/%23NYESYD\">#NYESYD</a> OMG that was INCREDIBLE!!! <a href=\"https://twitter.com/search/%23fireworks\">#fireworks</a> 🎉</p>&mdash; kylie minogue (@kylieminogue) <a href=\"https://twitter.com/kylieminogue/status/285739423449092096\" data-datetime=\"2012-12-31T13:29:21+00:00\">December 31, 2012</a></blockquote> </figure>  <p>Meanwhile, looks like someone\\'s going to be disappointed:</p>  <figure class=\"element element-tweet\" data-canonical-url=\"https://twitter.com/drewodrew/status/285773203958280195\">  <blockquote class=\"twitter-tweet\"><p>If Kylie is in Sydney, who have I arranged to meet in Whetherspoons at 10pm? <a href=\"https://twitter.com/search/%23drunktxt\">#drunktxt</a></p>&mdash; Drew O\\'Drew (@drewodrew) <a href=\"https://twitter.com/drewodrew/status/285773203958280195\" data-datetime=\"2012-12-31T15:43:35+00:00\">December 31, 2012</a></blockquote> </figure> </div>   </div> <div id=\"block-50e1ec6395cb94a7be21b5cf\" class=\"block\" data-block-contributor=\"\"> <p class=\"block-time published-time\"> <time datetime=\"2012-12-31T19:49:55.194Z\">7.49pm <span class=\"timezone\">GMT</span></time> </p>    <div class=\"block-elements\">  <p>So Sydney\\'s skyline has already erupted in fireworks, and extravagant displays have followed in Hong Kong and Beijing. Here\\'s a quick round-up of how celebrations are going down in some parts of Asia and the Pacific (with thanks to the Associated Press).</p> <p><strong>Australia</strong></p> <p>The balmy summer night in Sydney was split by 7 tons of fireworks fired from rooftops and barges, many cascading from the city\\'s Harbor Bridge, in a $6.9 million pyrotechnic extravaganza billed by organizers as the world\\'s largest.</p> <p>The Sydney crowds were undiminished by Australian government warnings that the Washington deadlock on the U.S. debt crisis was partly to blame for a slowing Australian economy. Kylie Minogue hosted the event.</p> <p><strong>Burma</strong></p> <p>After nearly five decades under military regimes that discouraged or banned big public gatherings, about 90,000 people experienced the country\\'s first New Year\\'s Eve countdown in a field in the largest city of Yangon.</p> <p>\"We feel like we are in a different world,\" said Yu Thawda, a university student who came with three of her friends.</p> <p><strong>Indonesia</strong></p> <p>Jakarta\\'s street party centered on a 7-kilometer (4-mile) thoroughfare closed to traffic from nightfall until after midnight. Workers erected 16 large stages along the normally clogged, eight-lane highway through the heart of the city.</p> <p><strong>Philippines</strong>.</p> <p>In a country where many are recovering from devastation from a recent typhoon, health officials have hit upon a successful way to stop revelers from setting off huge illegal firecrackers that maim and injure hundreds of Filipinos each year.</p> <p>A health official, Eric Tayag, donned the outfit of South Korean star PSY and danced to his YouTube hit \"Gangnam Style\" video while preaching against the use of illegal firecrackers on TV.</p> </div>   </div> <div id=\"block-50e1e95c95cb94a7be21b5cd\" class=\"block\" data-block-contributor=\"\"> <p class=\"block-time published-time\"> <time datetime=\"2012-12-31T19:37:00.218Z\">7.37pm <span class=\"timezone\">GMT</span></time> </p>    <div class=\"block-elements\">  <p>Let\\'s not allow the Australians (and here at least) the North Koreans to get all the credit for being the first to ring in the new year in style.</p> <p>In the central tropical Pacific Ocean, Samoa and parts of the island nation of Kiribati (which is better known as Christmas Island and has a population of more than 5,500) were among the first to ring in the new year.</p> <p><a href=\"http://www.bnowire.com/2012/12/31/samoa-and-kiribati-islands-first-to-welcome-the-new-year/?utm_source=dlvr.it&amp;utm_medium=twitter&amp;utm_campaign=samoa-and-kiribati-islands-first-to-welcome-the-new-year\">As this report </a>also points out:</p> <blockquote> <p>For the second time, residents in Samoa were also among the first people in the world to welcome the new year.</p> <p>The island country changed its timezone at the end of December 2011 by moving to the west of the International Date Line in an effort to boost its economy by doing business with Australia and New Zealand.</p> </blockquote> </div>   </div> <div id=\"block-50e1e675b579a9dd79231e84\" class=\"block\" data-block-contributor=\"\"> <p class=\"block-time published-time\"> <time datetime=\"2012-12-31T19:24:37.632Z\">7.24pm <span class=\"timezone\">GMT</span></time> </p>    <div class=\"block-elements\">  <p>First things first. Let\\'s not forget that in Pyongyang they\\'re actually celebrating the the arrival of a new year marked as \"Juche 102\" on North Korean calendars.</p> <p>As every comrade knows, Juche means self-reliance, the North Korean ideology of independence promoted by national founder Kim Il Sung, who was born 102 years ago.</p> <p>For those interested, here\\'s <a href=\"http://www.kcna.co.jp/index-e.htm\">a link to a jaunty little editorial </a>by Rodong Sinmun, Joson Inmingun and Chongnyon Jonwi, the DPRK\\'s leading newspapers (Wonder what they make of Leveson?):</p> <p>It says: </p> <blockquote class=\"quoted\"> <p>Glorify this year 2012 as a year of proud victory, a year when an era of prosperity is unfolding, true to the instructions of the great General Kim Jong Il.</p> </blockquote>  <figure class=\"element element-image\" data-media-id=\"gu-fc-e8599bea-e97a-48b5-b6e2-408c55d1ce5a\"> <img src=\"https://static.guim.co.uk/sys-images/Guardian/Pix/pictures/2012/12/31/1356981986267/cd71792c-240b-4a81-a08f-e877bf0d2020-460.jpeg\" alt=\"North Koreans in Pyongyang play with a balloon as they wait outside Pyongyang stadium for the countdown to the new year.\" width=\"460\" height=\"276\" class=\"gu-image\" /> <figcaption> <span class=\"element-image__caption\">North Koreans in Pyongyang play with a balloon as they wait outside Pyongyang stadium for the countdown to the new year.  Photograph: Kim Kwang Hyon/AP</span> </figcaption> </figure> </div>   <p class=\"block-time updated-time\">Updated <time datetime=\"2012-12-31T19:27:36.825Z\">at 7.27pm GMT</time></p>  </div> <div id=\"block-50e1e0e295cb94a7be21b5c9\" class=\"block\" data-block-contributor=\"\"> <p class=\"block-time published-time\"> <time datetime=\"2012-12-31T19:00:50.951Z\">7.00pm <span class=\"timezone\">GMT</span></time> </p>    <div class=\"block-elements\">  <p>Good evening and welcome to our coverage from London of the ringing in of a new year around the world.</p> <p>As usual, Sydney\\'s celebrations have provided the first iconic images of the new year, which started sweeping across the Pacific some time ago.</p> <p>So, despite the so-called fiscal cliff in the US threatening to reverberate globally, the tattered economies of Europe still hanging by a thread and a range of conflicts raging elsewhere, we\\'re going to spend a little while looking in a fairly light-hearted way at how the arrival of 2013 is being greeted.</p> <p>Do feel free to comment below on your hopes, fears, resolutions or downright indifference towards what is likely to happen over the next 12 months.</p> <p>After all, with 2012 behind us, can things get any worse?</p> </div>   </div>'"
      ]
     },
     "execution_count": 54,
     "metadata": {},
     "output_type": "execute_result"
    }
   ],
   "source": [
    "data['response']['results'][0]['fields']['body']"
   ]
  },
  {
   "cell_type": "code",
   "execution_count": 57,
   "metadata": {},
   "outputs": [
    {
     "data": {
      "text/plain": [
       "'2013-01-01T01:02:44Z'"
      ]
     },
     "execution_count": 57,
     "metadata": {},
     "output_type": "execute_result"
    }
   ],
   "source": [
    "data['response']['results'][0]['fields']['lastModified']"
   ]
  },
  {
   "cell_type": "code",
   "execution_count": 59,
   "metadata": {},
   "outputs": [
    {
     "data": {
      "text/plain": [
       "'2013-01-01T01:02:44Z'"
      ]
     },
     "execution_count": 59,
     "metadata": {},
     "output_type": "execute_result"
    }
   ],
   "source": [
    "data['response']['results'][0]['fields']['firstPublicationDate']"
   ]
  },
  {
   "cell_type": "code",
   "execution_count": 79,
   "metadata": {},
   "outputs": [
    {
     "data": {
      "text/plain": [
       "'https://www.theguardian.com/sport/live/2018/may/28/golden-state-warriors-houston-rockets-nba-western-conference-finals-game-7-latest-score'"
      ]
     },
     "execution_count": 79,
     "metadata": {},
     "output_type": "execute_result"
    }
   ],
   "source": [
    "data['response']['results'][0]['webUrl']"
   ]
  },
  {
   "cell_type": "code",
   "execution_count": 87,
   "metadata": {},
   "outputs": [
    {
     "data": {
      "text/plain": [
       "'sport/live/2018/may/28/golden-state-warriors-houston-rockets-nba-western-conference-finals-game-7-latest-score'"
      ]
     },
     "execution_count": 87,
     "metadata": {},
     "output_type": "execute_result"
    }
   ],
   "source": [
    "data['response']['results'][0]['id']"
   ]
  },
  {
   "cell_type": "code",
   "execution_count": 88,
   "metadata": {
    "scrolled": false
   },
   "outputs": [],
   "source": [
    "#pk(data['response']['results'][0], 0)"
   ]
  },
  {
   "cell_type": "code",
   "execution_count": 89,
   "metadata": {},
   "outputs": [
    {
     "name": "stdout",
     "output_type": "stream",
     "text": [
      "Saved 7373 articles to guardian_data/2013/allnews_2013.csv\n",
      "Saved 57022 articles to guardian_data/2014/allnews_2014.csv\n",
      "Saved 116658 articles to guardian_data/2015/allnews_2015.csv\n",
      "Saved 110392 articles to guardian_data/2016/allnews_2016.csv\n",
      "Saved 85403 articles to guardian_data/2017/allnews_2017.csv\n",
      "Saved 33641 articles to guardian_data/2018/allnews_2018.csv\n"
     ]
    }
   ],
   "source": [
    "for year in range(2013,2019):\n",
    "    df_allnews = pd.DataFrame()\n",
    "    \n",
    "    for infile in glob.glob('guardian_data/%d/*/*' % year):\n",
    "        with open(infile) as f:\n",
    "            data = json.load(f)\n",
    "\n",
    "            headlines    = [ i['fields']['headline']  for i in data['response']['results'] ]\n",
    "            sectionNames = [ i['sectionName']         for i in data['response']['results'] ]\n",
    "            sectionIds   = [ i['sectionId']           for i in data['response']['results'] ]\n",
    "            webUrls      = [ i['webUrl']              for i in data['response']['results'] ]\n",
    "            ids          = [ i['id']                  for i in data['response']['results'] ]            \n",
    "            trailTexts   = [ i['fields']['trailText'] for i in data['response']['results'] ]\n",
    "            texts        = [ i['fields']['bodyText']  for i in data['response']['results'] ]\n",
    "            pubDates = [ i['fields']['firstPublicationDate'] for i in data['response']['results'] ]\n",
    "\n",
    "            dic = { 'headline':headlines, 'sectionName':sectionNames, 'sectionId':sectionIds, \n",
    "                    'webUrl':webUrls, 'id':ids,\n",
    "                    'trailText':trailTexts, 'text':texts, 'pubDate':pubDates }\n",
    "            df_allnews = df_allnews.append( pd.DataFrame(dic) )\n",
    "            \n",
    "        #print('Read', infile)\n",
    "        \n",
    "    outfile = 'guardian_data/%d/allnews_%d.csv' % (year, year)\n",
    "    df_allnews.to_csv(outfile, sep='\\t', index=False)\n",
    "    print('Saved %d articles to %s' % (len(df_allnews), outfile))"
   ]
  }
 ],
 "metadata": {
  "kernelspec": {
   "display_name": "Python 3",
   "language": "python",
   "name": "python3"
  },
  "language_info": {
   "codemirror_mode": {
    "name": "ipython",
    "version": 3
   },
   "file_extension": ".py",
   "mimetype": "text/x-python",
   "name": "python",
   "nbconvert_exporter": "python",
   "pygments_lexer": "ipython3",
   "version": "3.5.2"
  }
 },
 "nbformat": 4,
 "nbformat_minor": 2
}
